{
 "cells": [
  {
   "cell_type": "code",
   "execution_count": 1,
   "metadata": {},
   "outputs": [],
   "source": [
    "import numpy as np\n",
    "import matplotlib.pyplot as plt\n",
    "from scipy import signal\n",
    "from scipy.integrate import odeint\n"
   ]
  },
  {
   "cell_type": "code",
   "execution_count": 2,
   "metadata": {},
   "outputs": [],
   "source": [
    "#Constants\n",
    "A1 = 5  # Area of first tank (m²)\n",
    "A2 = 4  # Area of second tank (m²)\n",
    "R1 = 3  # Resistance of first valve (s/m²)\n",
    "R2 = 5  # Resistance of second valve (s/m²)\n",
    "Q_in_simulation = 1  # m³/s\n",
    "h_desired = 5  # m\n",
    "h2_final = 6  # m"
   ]
  },
  {
   "cell_type": "code",
   "execution_count": null,
   "metadata": {},
   "outputs": [],
   "source": [
    "def plot_responses(t,requirement_number, X):\n",
    "    plt.figure(figsize=(12, 8))\n",
    "    for i, x in enumerate(X):\n",
    "        plt.subplot(len(X), 1, i+1)\n",
    "        plt.plot(t, x)\n",
    "        plt.title(f'{x['title']}')\n",
    "        plt.xlabel('Time (s)')\n",
    "        plt.ylabel(f'{x['title']}')\n",
    "    plt.tight_layout()\n",
    "    plt.savefig(f'{requirement_number}-{x['title']}.png')\n",
    "    plt.show()"
   ]
  },
  {
   "cell_type": "code",
   "execution_count": null,
   "metadata": {},
   "outputs": [],
   "source": [
    "# TODO Obtain the transfer functions of the system [Q0(s)/Qin(s), Q1(s)/Qin(s), H1(s)/Qin(s), H2(s)/Qin(s)]"
   ]
  },
  {
   "cell_type": "code",
   "execution_count": null,
   "metadata": {},
   "outputs": [],
   "source": [
    "# TODO Study the stability of the system(H2(s)/Qin(s))"
   ]
  },
  {
   "cell_type": "code",
   "execution_count": null,
   "metadata": {},
   "outputs": [],
   "source": [
    "# TODO \n",
    "# 1- Simulate the system with a step input(Qin(s)) \n",
    "# 2- Plot the response(q0(t), q1(t), h1(t), h2(t))\n",
    "# 3- Calculate the steady state values(q0_ss, q1_ss, h1_ss, h2_ss)"
   ]
  },
  {
   "cell_type": "code",
   "execution_count": null,
   "metadata": {},
   "outputs": [],
   "source": [
    "# TODO suggest a modification to the system\n",
    "# 1- Add a feedback loop to the system\n",
    "# 2- make H2 follow a desired input(h_desired)"
   ]
  },
  {
   "cell_type": "code",
   "execution_count": null,
   "metadata": {},
   "outputs": [],
   "source": [
    "# TODO Simulate the system with h_desired = 5m and get h1, h2"
   ]
  },
  {
   "cell_type": "code",
   "execution_count": null,
   "metadata": {},
   "outputs": [],
   "source": [
    "#TODO For h2, get the rise time, peak time, settling time, steady state error and max peak"
   ]
  },
  {
   "cell_type": "code",
   "execution_count": null,
   "metadata": {},
   "outputs": [],
   "source": [
    "#TODO For h2, get the steady state error for a step disturbance(Qin(s))"
   ]
  },
  {
   "cell_type": "code",
   "execution_count": null,
   "metadata": {},
   "outputs": [],
   "source": [
    "# TODO To reduce the steady state error, we can add a proportional controller to the system\n",
    "#  Simulate the system with the controller and tudy the effect of the value\n",
    "# of proportional controller on both ess and transient response by simulating the system with the following\n",
    "# values of P controller: 1, 10, 100. Calculate transient response parameters for each case. Comment on\n",
    "# your results. "
   ]
  },
  {
   "cell_type": "code",
   "execution_count": null,
   "metadata": {},
   "outputs": [],
   "source": [
    "# TODO if h2 =6. Is it possible to get ess<0.1 using only a propotional only controller? Why?"
   ]
  },
  {
   "cell_type": "code",
   "execution_count": null,
   "metadata": {},
   "outputs": [],
   "source": [
    "# TODO Suggest a suitable controller to eliminate the steady state error\n",
    "# TODO Simulate the system with the controller and get the response"
   ]
  }
 ],
 "metadata": {
  "kernelspec": {
   "display_name": "Python 3",
   "language": "python",
   "name": "python3"
  },
  "language_info": {
   "codemirror_mode": {
    "name": "ipython",
    "version": 3
   },
   "file_extension": ".py",
   "mimetype": "text/x-python",
   "name": "python",
   "nbconvert_exporter": "python",
   "pygments_lexer": "ipython3",
   "version": "3.10.12"
  }
 },
 "nbformat": 4,
 "nbformat_minor": 2
}
